{
 "cells": [
  {
   "cell_type": "code",
   "execution_count": 1,
   "metadata": {},
   "outputs": [],
   "source": [
    "import math"
   ]
  },
  {
   "cell_type": "code",
   "execution_count": 16,
   "metadata": {},
   "outputs": [],
   "source": [
    "class ProcessBill:\n",
    "    \n",
    "    def __init__(self, inputBill):\n",
    "        self.inputBillList = inputBill.split(',')\n",
    "        #Initializations\n",
    "        self.qtys = []\n",
    "        self.prices = []\n",
    "        #\n",
    "        self.importFlag = []\n",
    "        self.excemptionFlag = []\n",
    "        #\n",
    "        self.salesTaxVal = 0\n",
    "        self.totalCost = 0\n",
    "        \n",
    "    def isImported(self,strToCheck):\n",
    "        strToCheck = strToCheck.strip().lower()\n",
    "        if 'import' in strToCheck:\n",
    "            return 1\n",
    "        else:\n",
    "            return 0\n",
    "    \n",
    "    def isExtempted(self,strToCheck):\n",
    "        strToCheck= strToCheck.strip().lower()\n",
    "        excemption_lists = ['book','chocolate','pill']\n",
    "        if any(map(strToCheck.__contains__, excemption_lists)):\n",
    "            return 1\n",
    "        else:\n",
    "            return 0\n",
    "    \n",
    "    def preprocess(self):\n",
    "        for item in self.inputBillList:\n",
    "            self.qtys.append(item.split()[0])\n",
    "            self.prices.append(item.split()[-1])\n",
    "            self.importFlag.append(self.isImported(item))\n",
    "            self.excemptionFlag.append(self.isExtempted(item))\n",
    "            \n",
    "    def calculateTax(self):\n",
    "        self.preprocess()\n",
    "        #sales tax \n",
    "        for qty, price, isImport, isExtempt in zip(self.qtys,self.prices,self.importFlag,self.excemptionFlag):\n",
    "            salesTaxPercent = 0 # In Percentage\n",
    "            if isImport:\n",
    "                salesTaxPercent = 5\n",
    "            if not isExtempt:\n",
    "                salesTaxPercent = salesTaxPercent + 10\n",
    "            costPerItem = int(qty)*float(price)\n",
    "            self.totalCost = self.totalCost + costPerItem\n",
    "            self.salesTaxVal = self.salesTaxVal + (costPerItem)*salesTaxPercent/100\n",
    "        self.salesTaxVal = math.ceil(self.salesTaxVal / 0.05) * 0.05\n",
    "        self.totalCost =round(self.totalCost +self.salesTaxVal,2)\n",
    "        self.dispOutput()\n",
    "        \n",
    "    def dispOutput(self):\n",
    "        for item in self.inputBillList:\n",
    "            print(item)\n",
    "        print(\"Sales Tax : {:.2f}\".format(self.salesTaxVal))\n",
    "        print(\"Total : \",self.totalCost)"
   ]
  },
  {
   "cell_type": "code",
   "execution_count": 18,
   "metadata": {},
   "outputs": [
    {
     "name": "stdout",
     "output_type": "stream",
     "text": [
      "1 imported box of chocolates at 10.00\n",
      "1 imported bottle of perfume at 47.50\n",
      "Sales Tax : 7.65\n",
      "Total :  65.15\n"
     ]
    }
   ],
   "source": [
    "#inputBill = \"1 book at 12.49,1 music CD at 14.99,1 chocolate bar at 0.85\"\n",
    "inputBill = \"1 imported box of chocolates at 10.00,1 imported bottle of perfume at 47.50\"\n",
    "#inputBill = \"1 imported bottle of perfume at 27.99, 1 bottle of perfume at 18.99 ,1 packet of headache pills at 9.75 ,1 box of imported chocolates at 11.25\"\n",
    "\n",
    "outputBill = ProcessBill(inputBill)\n",
    "outputBill.calculateTax()"
   ]
  },
  {
   "cell_type": "code",
   "execution_count": null,
   "metadata": {},
   "outputs": [],
   "source": []
  }
 ],
 "metadata": {
  "kernelspec": {
   "display_name": "Python 3",
   "language": "python",
   "name": "python3"
  },
  "language_info": {
   "codemirror_mode": {
    "name": "ipython",
    "version": 3
   },
   "file_extension": ".py",
   "mimetype": "text/x-python",
   "name": "python",
   "nbconvert_exporter": "python",
   "pygments_lexer": "ipython3",
   "version": "3.8.5"
  }
 },
 "nbformat": 4,
 "nbformat_minor": 4
}
